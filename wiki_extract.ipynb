{
 "cells": [
  {
   "cell_type": "code",
   "execution_count": null,
   "id": "9852d19e",
   "metadata": {},
   "outputs": [],
   "source": [
    "'''import libraries'''\n",
    "import requests\n",
    "from bs4 import BeautifulSoup"
   ]
  },
  {
   "cell_type": "code",
   "execution_count": null,
   "id": "7c857271",
   "metadata": {},
   "outputs": [],
   "source": [
    "'''get access to the page'''\n",
    "url = 'https://en.wikipedia.org/wiki/Montenegro'\n",
    "montenegro = requests.get(url)\n",
    "page = BeautifulSoup(montenegro.content, 'html.parser')\n"
   ]
  },
  {
   "cell_type": "code",
   "execution_count": null,
   "id": "1966e56e",
   "metadata": {},
   "outputs": [
    {
     "data": {
      "text/plain": [
       "'Montenegro'"
      ]
     },
     "execution_count": 51,
     "metadata": {},
     "output_type": "execute_result"
    }
   ],
   "source": [
    "'''page title'''\n",
    "page.find('h1').text"
   ]
  },
  {
   "cell_type": "code",
   "execution_count": null,
   "id": "64e41ee3",
   "metadata": {},
   "outputs": [],
   "source": [
    "'''get page sub-section i.e h2'''\n",
    "h2 = []\n",
    "\n",
    "for header in page.find_all('h2'):\n",
    "    h2.append(header.text.strip())\n",
    "\n",
    "h2"
   ]
  },
  {
   "cell_type": "code",
   "execution_count": null,
   "id": "35ca106f",
   "metadata": {},
   "outputs": [],
   "source": [
    "'''get page sub-section i.e h3'''\n",
    "h3 = []\n",
    "\n",
    "for header in page.find_all('h3'):\n",
    "    h3.append(header.text.strip())\n",
    "\n",
    "h3"
   ]
  },
  {
   "cell_type": "code",
   "execution_count": null,
   "id": "945aeb03",
   "metadata": {},
   "outputs": [],
   "source": [
    "'''get fun fact about Montenegro'''\n",
    "fact = page.find('table', class_='infobox')  \n",
    "\n",
    "if fact:\n",
    "    for row in fact.find_all('tr'):\n",
    "        header = row.find('th')\n",
    "        data = row.find('td')\n",
    "        if header and data:\n",
    "            print(f\"{header.text.strip()}: {data.text.strip()}\")\n",
    "else:\n",
    "    print(\"fun fact not available\")"
   ]
  },
  {
   "cell_type": "code",
   "execution_count": null,
   "id": "40ec4680",
   "metadata": {},
   "outputs": [],
   "source": [
    "'''get data from tables on the page'''\n",
    "tables = page.find_all('table', class_='wikitable')\n",
    "for table in tables:\n",
    "    for row in table.find_all('tr'):\n",
    "        cells = row.find_all(['th', 'td'])\n",
    "        print([cell.text.strip() for cell in cells])\n",
    "\n"
   ]
  }
 ],
 "metadata": {
  "kernelspec": {
   "display_name": "Python 3",
   "language": "python",
   "name": "python3"
  },
  "language_info": {
   "codemirror_mode": {
    "name": "ipython",
    "version": 3
   },
   "file_extension": ".py",
   "mimetype": "text/x-python",
   "name": "python",
   "nbconvert_exporter": "python",
   "pygments_lexer": "ipython3",
   "version": "3.10.6"
  }
 },
 "nbformat": 4,
 "nbformat_minor": 5
}
