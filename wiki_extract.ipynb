{
 "cells": [
  {
   "cell_type": "code",
   "execution_count": 91,
   "id": "9852d19e",
   "metadata": {},
   "outputs": [],
   "source": [
    "'''import libraries'''\n",
    "import requests\n",
    "from bs4 import BeautifulSoup"
   ]
  },
  {
   "cell_type": "code",
   "execution_count": 92,
   "id": "7c857271",
   "metadata": {},
   "outputs": [],
   "source": [
    "'''get access to the page'''\n",
    "url = 'https://en.wikipedia.org/wiki/Montenegro'\n",
    "montenegro = requests.get(url)\n",
    "page = BeautifulSoup(montenegro.content, 'html.parser')\n"
   ]
  },
  {
   "cell_type": "code",
   "execution_count": null,
   "id": "1966e56e",
   "metadata": {},
   "outputs": [
    {
     "data": {
      "text/plain": [
       "'Montenegro'"
      ]
     },
     "execution_count": 51,
     "metadata": {},
     "output_type": "execute_result"
    }
   ],
   "source": [
    "'''page title'''\n",
    "page.find('h1').text"
   ]
  },
  {
   "cell_type": "code",
   "execution_count": 93,
   "id": "64e41ee3",
   "metadata": {},
   "outputs": [
    {
     "data": {
      "text/plain": [
       "['Contents',\n",
       " 'Etymology',\n",
       " 'History',\n",
       " 'Geography',\n",
       " 'Politics',\n",
       " 'Economy',\n",
       " 'Demographics',\n",
       " 'Culture',\n",
       " 'See also',\n",
       " 'Notes',\n",
       " 'References',\n",
       " 'Sources',\n",
       " 'External links']"
      ]
     },
     "execution_count": 93,
     "metadata": {},
     "output_type": "execute_result"
    }
   ],
   "source": [
    "'''get page sub-section i.e h2'''\n",
    "h2 = []\n",
    "\n",
    "for header in page.find_all('h2'):\n",
    "    h2.append(header.text.strip())\n",
    "\n",
    "h2"
   ]
  },
  {
   "cell_type": "code",
   "execution_count": 94,
   "id": "35ca106f",
   "metadata": {},
   "outputs": [
    {
     "data": {
      "text/plain": [
       "['Antiquity',\n",
       " 'Arrival of the Slavs',\n",
       " 'Early modern period',\n",
       " 'Principality and Kingdom of Montenegro',\n",
       " 'Kingdom of Yugoslavia',\n",
       " 'World War II and Socialist Yugoslavia',\n",
       " 'Montenegro within FR Yugoslavia',\n",
       " 'Independence',\n",
       " 'Recent history',\n",
       " 'Biodiversity',\n",
       " 'Administrative divisions',\n",
       " 'Foreign relations',\n",
       " 'Law',\n",
       " 'Law enforcement, security and emergency services',\n",
       " 'Military',\n",
       " 'Infrastructure',\n",
       " 'Tourism',\n",
       " 'Ethnic structure',\n",
       " 'Languages',\n",
       " 'Religion',\n",
       " 'Media',\n",
       " 'Sport',\n",
       " 'Cuisine']"
      ]
     },
     "execution_count": 94,
     "metadata": {},
     "output_type": "execute_result"
    }
   ],
   "source": [
    "'''get page sub-section i.e h3'''\n",
    "h3 = []\n",
    "\n",
    "for header in page.find_all('h3'):\n",
    "    h3.append(header.text.strip())\n",
    "\n",
    "h3"
   ]
  },
  {
   "cell_type": "code",
   "execution_count": 95,
   "id": "945aeb03",
   "metadata": {},
   "outputs": [
    {
     "name": "stdout",
     "output_type": "stream",
     "text": [
      "MontenegroCrna Gora, Црна Гора (Montenegrin)\n",
      "4 languages in official use[a]\n",
      "Serbian:Црна Гора,Crna GoraBosnian:Crna GoraAlbanian:Mali i ZiCroatian:Crna Gora: Црна Гора,Crna Gora\n",
      "Serbian:: Црна Гора,Crna Gora\n",
      "Bosnian:: Crna Gora\n",
      "Albanian:: Mali i Zi\n",
      "Croatian:: Crna Gora\n",
      "Capitaland largest city: Podgorica[2]42°47′N 19°28′E﻿ / ﻿42.783°N 19.467°E﻿ / 42.783; 19.467\n",
      "Official languages: Montenegrin[3]\n",
      "Languages in official use[1]: AlbanianBosnianCroatianSerbian\n",
      "Ethnic groups  (2023)[4]: 41.1% Montenegrins32.9% Serbs9.4% Bosniaks5.0% Albanians2.0% Russians9.6% others\n",
      "Religion  (2023)[4]: 74.9% Christianity\n",
      "71.1% Eastern Orthodoxy\n",
      "3.2% Catholicism\n",
      "0.6% other Christian\n",
      "19.9% Islam2.7% no religion0.3% other2.2% not stated\n",
      "Demonym(s): Montenegrin\n",
      "Government: Unitary parliamentary republic\n",
      "• President: Jakov Milatović\n",
      "• Prime Minister: Milojko Spajić\n",
      "• President of the Parliament: Andrija Mandić\n",
      "Legislature: Parliament\n",
      "• Duklja: 10th century\n",
      "• Zeta: 1356\n",
      "• Prince-Bishopric of Montenegro: 1516\n",
      "• Principality of Montenegro: 13 March 1852\n",
      "• Treaty of Berlin: 13 July 1878\n",
      "• Kingdom of Montenegro: 28 August 1910\n",
      "• Kingdom of Yugoslavia: 26 November 1918\n",
      "• SFR Yugoslavia: 29 November 1945\n",
      "• Serbia and Montenegro: 27 April 1992\n",
      "• Independence referendum: 21 May 2006\n",
      "• Total: 13,883[5] km2 (5,360 sq mi) (156th)\n",
      "• Water (%): 3.1\n",
      "• 2023 census: 623,633[6] (164th)\n",
      "• Density: 43.6/km2 (112.9/sq mi) (177th)\n",
      "GDP (PPP): 2023 estimate\n",
      "• Total: $17.431 billion[7] (149th)\n",
      "• Per capita: $28,002[7] (63rd)\n",
      "GDP (nominal): 2023 estimate\n",
      "• Total: $7.058 billion[7] (153rd)\n",
      "• Per capita: $11,338[7] (73rd)\n",
      "Gini (2023): 29.4[8]low inequality\n",
      "HDI (2022): 0.844[9]very high (50th)\n",
      "Currency: Euro (€)a (EUR)\n",
      "Time zone: UTC+1 (CET)\n",
      "• Summer (DST): UTC+2 (CEST)\n",
      "Calling code: +382\n",
      "ISO 3166 code: ME\n",
      "Internet TLD: .me\n"
     ]
    }
   ],
   "source": [
    "'''get fun fact about Montenegro'''\n",
    "fact = page.find('table', class_='infobox')  \n",
    "\n",
    "if fact:\n",
    "    for row in fact.find_all('tr'):\n",
    "        header = row.find('th')\n",
    "        data = row.find('td')\n",
    "        if header and data:\n",
    "            print(f\"{header.text.strip()}: {data.text.strip()}\")\n",
    "else:\n",
    "    print(\"fun fact not available\")"
   ]
  },
  {
   "cell_type": "code",
   "execution_count": null,
   "id": "40ec4680",
   "metadata": {},
   "outputs": [
    {
     "name": "stdout",
     "output_type": "stream",
     "text": [
      "['Montenegro have many national parks, making it important for its biodiversity, the national parks include: the Durmitor National Park (1952), having an area of 390 square kilometres (39,000\\xa0ha), is also a massif. Located in the Dinaric Alps, the Belgrade–Bar railway crosses the mountains in it; the Biogradska Gora National Park (1952), spans to 54 square kilometres (5,400\\xa0ha), being as well a forest, the park was recognised as one of the UNESCO World Network of Biosphere Reserves; the Lovćen National Park (1952) is located in southwestern Montenegro, it is the inspiration behind the names of Montenegro and Crna Gora, the area is 64 square kilometres (6,400\\xa0ha); the Lake Skadar National Park (1983) is a big lake lying on the Albania-Montenegro border, the national park measure approximately 400 square kilometres (40,000\\xa0ha); the Prokletije National Park (2009) is a moutain range including the second tallest mountain of Montenegro, the park have an area of 166 square kilometres (16,600\\xa0ha).']\n",
      "['Municipality', 'Area', 'Population']\n",
      "['Km2', 'Rank', 'Total', 'Rank']\n",
      "['Andrijevica', '283', '12', '5,117', '10']\n",
      "['Berane', '544', '6', '28,305', '3']\n",
      "['Bijelo Polje', '924', '2', '46,676', '1']\n",
      "['Gusinje', '486', '8', '13,108', '6']\n",
      "['Kolašin', '897', '3', '8,420', '8']\n",
      "['Mojkovac', '367', '11', '8,669', '7']\n",
      "['Petnjica', '173', '13', '6,686', '9']\n",
      "['Plav', '486', '7', '13,549', '5']\n",
      "['Plužine', '854', '4', '3,286', '12']\n",
      "['Pljevlja', '1,346', '1', '31,060', '2']\n",
      "['Rožaje', '432', '10', '23,312', '4']\n",
      "['Šavnik', '553', '5', '2,077', '13']\n",
      "['Žabljak', '445', '9', '3,599', '11']\n",
      "['Municipality', 'Area', 'Population']\n",
      "['Km2', 'Rank', 'Total', 'Rank']\n",
      "['Cetinje', '899', '3', '16,757', '4']\n",
      "['Danilovgrad', '501', '4', '17,678', '3']\n",
      "['Nikšić', '2,065', '1', '72,824', '2']\n",
      "['Podgorica', '1,399', '2', '187,085', '1']\n",
      "['Tuzi', '236', '5', '12,096', '5']\n",
      "['Municipality', 'Area', 'Population']\n",
      "['Km2', 'Rank', 'Total', 'Rank']\n",
      "['Bar', '598', '1', '42,368', '1']\n",
      "['Budva', '122', '5', '19,170', '5']\n",
      "['Herceg Novi', '235', '4', '30,992', '2']\n",
      "['Kotor', '335', '2', '22,799', '3']\n",
      "['Tivat', '46', '6', '14,111', '6']\n",
      "['Ulcinj', '255', '3', '20,265', '4']\n"
     ]
    }
   ],
   "source": [
    "'''get data from tables'''\n",
    "tables = page.find_all('table', class_='wikitable')\n",
    "for table in tables:\n",
    "    for row in table.find_all('tr'):\n",
    "        cells = row.find_all(['th', 'td'])\n",
    "        print([cell.text.strip() for cell in cells])\n",
    "\n"
   ]
  }
 ],
 "metadata": {
  "kernelspec": {
   "display_name": "Python 3",
   "language": "python",
   "name": "python3"
  },
  "language_info": {
   "codemirror_mode": {
    "name": "ipython",
    "version": 3
   },
   "file_extension": ".py",
   "mimetype": "text/x-python",
   "name": "python",
   "nbconvert_exporter": "python",
   "pygments_lexer": "ipython3",
   "version": "3.10.6"
  }
 },
 "nbformat": 4,
 "nbformat_minor": 5
}
